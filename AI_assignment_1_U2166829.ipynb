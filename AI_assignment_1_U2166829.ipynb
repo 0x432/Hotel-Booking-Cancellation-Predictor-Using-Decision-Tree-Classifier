{
  "cells": [
    {
      "cell_type": "markdown",
      "metadata": {
        "id": "uYJ1aGgmTl4_"
      },
      "source": [
        "## **Initlization of data**"
      ]
    },
    {
      "cell_type": "code",
      "execution_count": null,
      "metadata": {
        "id": "qjDZcsAD7NQI"
      },
      "outputs": [],
      "source": [
        "############### Importing libs ###############\n",
        "\n",
        "import pandas as pd # Importing pandas framework to use dataframes.\n",
        "import matplotlib.pyplot as plt # importing the matplot lib to make charts easier.\n",
        "import seaborn as sb # Importing seaborn to use heatmaps\n",
        "from google.colab import files # Importing files so I can upload the CSV file to google colab.\n",
        "from sklearn.preprocessing import StandardScaler # Importing the standardscaler so i can scale my data.\n",
        "from sklearn.tree import DecisionTreeClassifier # Importing DecisionTreeClassifier for building the decision tree model.\n",
        "from sklearn.model_selection import train_test_split # Importing train_test_split for splitting the dataset into training and testing sets.\n",
        "from sklearn.metrics import confusion_matrix, classification_report # Importing confusion_matrix and classification_report to evaluate the model's performance.\n",
        "from sklearn import metrics # Importing metrics for various classification metrics (e.g., accuracy).\n",
        "from sklearn import preprocessing # Importing preprocessing for data preprocessing tasks."
      ]
    },
    {
      "cell_type": "code",
      "execution_count": null,
      "metadata": {
        "colab": {
          "base_uri": "https://localhost:8080/",
          "height": 73
        },
        "id": "5wW7BfSbxDuT",
        "outputId": "e8373b10-48d6-4eb0-f4a6-9fa02e2b556e"
      },
      "outputs": [
        {
          "output_type": "display_data",
          "data": {
            "text/plain": [
              "<IPython.core.display.HTML object>"
            ],
            "text/html": [
              "\n",
              "     <input type=\"file\" id=\"files-7e97c038-0048-46fc-8e84-2f96c0d8da19\" name=\"files[]\" multiple disabled\n",
              "        style=\"border:none\" />\n",
              "     <output id=\"result-7e97c038-0048-46fc-8e84-2f96c0d8da19\">\n",
              "      Upload widget is only available when the cell has been executed in the\n",
              "      current browser session. Please rerun this cell to enable.\n",
              "      </output>\n",
              "      <script>// Copyright 2017 Google LLC\n",
              "//\n",
              "// Licensed under the Apache License, Version 2.0 (the \"License\");\n",
              "// you may not use this file except in compliance with the License.\n",
              "// You may obtain a copy of the License at\n",
              "//\n",
              "//      http://www.apache.org/licenses/LICENSE-2.0\n",
              "//\n",
              "// Unless required by applicable law or agreed to in writing, software\n",
              "// distributed under the License is distributed on an \"AS IS\" BASIS,\n",
              "// WITHOUT WARRANTIES OR CONDITIONS OF ANY KIND, either express or implied.\n",
              "// See the License for the specific language governing permissions and\n",
              "// limitations under the License.\n",
              "\n",
              "/**\n",
              " * @fileoverview Helpers for google.colab Python module.\n",
              " */\n",
              "(function(scope) {\n",
              "function span(text, styleAttributes = {}) {\n",
              "  const element = document.createElement('span');\n",
              "  element.textContent = text;\n",
              "  for (const key of Object.keys(styleAttributes)) {\n",
              "    element.style[key] = styleAttributes[key];\n",
              "  }\n",
              "  return element;\n",
              "}\n",
              "\n",
              "// Max number of bytes which will be uploaded at a time.\n",
              "const MAX_PAYLOAD_SIZE = 100 * 1024;\n",
              "\n",
              "function _uploadFiles(inputId, outputId) {\n",
              "  const steps = uploadFilesStep(inputId, outputId);\n",
              "  const outputElement = document.getElementById(outputId);\n",
              "  // Cache steps on the outputElement to make it available for the next call\n",
              "  // to uploadFilesContinue from Python.\n",
              "  outputElement.steps = steps;\n",
              "\n",
              "  return _uploadFilesContinue(outputId);\n",
              "}\n",
              "\n",
              "// This is roughly an async generator (not supported in the browser yet),\n",
              "// where there are multiple asynchronous steps and the Python side is going\n",
              "// to poll for completion of each step.\n",
              "// This uses a Promise to block the python side on completion of each step,\n",
              "// then passes the result of the previous step as the input to the next step.\n",
              "function _uploadFilesContinue(outputId) {\n",
              "  const outputElement = document.getElementById(outputId);\n",
              "  const steps = outputElement.steps;\n",
              "\n",
              "  const next = steps.next(outputElement.lastPromiseValue);\n",
              "  return Promise.resolve(next.value.promise).then((value) => {\n",
              "    // Cache the last promise value to make it available to the next\n",
              "    // step of the generator.\n",
              "    outputElement.lastPromiseValue = value;\n",
              "    return next.value.response;\n",
              "  });\n",
              "}\n",
              "\n",
              "/**\n",
              " * Generator function which is called between each async step of the upload\n",
              " * process.\n",
              " * @param {string} inputId Element ID of the input file picker element.\n",
              " * @param {string} outputId Element ID of the output display.\n",
              " * @return {!Iterable<!Object>} Iterable of next steps.\n",
              " */\n",
              "function* uploadFilesStep(inputId, outputId) {\n",
              "  const inputElement = document.getElementById(inputId);\n",
              "  inputElement.disabled = false;\n",
              "\n",
              "  const outputElement = document.getElementById(outputId);\n",
              "  outputElement.innerHTML = '';\n",
              "\n",
              "  const pickedPromise = new Promise((resolve) => {\n",
              "    inputElement.addEventListener('change', (e) => {\n",
              "      resolve(e.target.files);\n",
              "    });\n",
              "  });\n",
              "\n",
              "  const cancel = document.createElement('button');\n",
              "  inputElement.parentElement.appendChild(cancel);\n",
              "  cancel.textContent = 'Cancel upload';\n",
              "  const cancelPromise = new Promise((resolve) => {\n",
              "    cancel.onclick = () => {\n",
              "      resolve(null);\n",
              "    };\n",
              "  });\n",
              "\n",
              "  // Wait for the user to pick the files.\n",
              "  const files = yield {\n",
              "    promise: Promise.race([pickedPromise, cancelPromise]),\n",
              "    response: {\n",
              "      action: 'starting',\n",
              "    }\n",
              "  };\n",
              "\n",
              "  cancel.remove();\n",
              "\n",
              "  // Disable the input element since further picks are not allowed.\n",
              "  inputElement.disabled = true;\n",
              "\n",
              "  if (!files) {\n",
              "    return {\n",
              "      response: {\n",
              "        action: 'complete',\n",
              "      }\n",
              "    };\n",
              "  }\n",
              "\n",
              "  for (const file of files) {\n",
              "    const li = document.createElement('li');\n",
              "    li.append(span(file.name, {fontWeight: 'bold'}));\n",
              "    li.append(span(\n",
              "        `(${file.type || 'n/a'}) - ${file.size} bytes, ` +\n",
              "        `last modified: ${\n",
              "            file.lastModifiedDate ? file.lastModifiedDate.toLocaleDateString() :\n",
              "                                    'n/a'} - `));\n",
              "    const percent = span('0% done');\n",
              "    li.appendChild(percent);\n",
              "\n",
              "    outputElement.appendChild(li);\n",
              "\n",
              "    const fileDataPromise = new Promise((resolve) => {\n",
              "      const reader = new FileReader();\n",
              "      reader.onload = (e) => {\n",
              "        resolve(e.target.result);\n",
              "      };\n",
              "      reader.readAsArrayBuffer(file);\n",
              "    });\n",
              "    // Wait for the data to be ready.\n",
              "    let fileData = yield {\n",
              "      promise: fileDataPromise,\n",
              "      response: {\n",
              "        action: 'continue',\n",
              "      }\n",
              "    };\n",
              "\n",
              "    // Use a chunked sending to avoid message size limits. See b/62115660.\n",
              "    let position = 0;\n",
              "    do {\n",
              "      const length = Math.min(fileData.byteLength - position, MAX_PAYLOAD_SIZE);\n",
              "      const chunk = new Uint8Array(fileData, position, length);\n",
              "      position += length;\n",
              "\n",
              "      const base64 = btoa(String.fromCharCode.apply(null, chunk));\n",
              "      yield {\n",
              "        response: {\n",
              "          action: 'append',\n",
              "          file: file.name,\n",
              "          data: base64,\n",
              "        },\n",
              "      };\n",
              "\n",
              "      let percentDone = fileData.byteLength === 0 ?\n",
              "          100 :\n",
              "          Math.round((position / fileData.byteLength) * 100);\n",
              "      percent.textContent = `${percentDone}% done`;\n",
              "\n",
              "    } while (position < fileData.byteLength);\n",
              "  }\n",
              "\n",
              "  // All done.\n",
              "  yield {\n",
              "    response: {\n",
              "      action: 'complete',\n",
              "    }\n",
              "  };\n",
              "}\n",
              "\n",
              "scope.google = scope.google || {};\n",
              "scope.google.colab = scope.google.colab || {};\n",
              "scope.google.colab._files = {\n",
              "  _uploadFiles,\n",
              "  _uploadFilesContinue,\n",
              "};\n",
              "})(self);\n",
              "</script> "
            ]
          },
          "metadata": {}
        },
        {
          "output_type": "stream",
          "name": "stdout",
          "text": [
            "Saving hotel_bookings.csv to hotel_bookings.csv\n"
          ]
        }
      ],
      "source": [
        "uploaded = files.upload() # getting the CSV file to extract the data we need."
      ]
    },
    {
      "cell_type": "code",
      "execution_count": null,
      "metadata": {
        "id": "PXkvqt-HxiDd"
      },
      "outputs": [],
      "source": [
        "hotel_data_df = pd.read_csv('./hotel_bookings.csv') # Loading the CSV file into a dataframe and storing it at (fulldata_df)"
      ]
    },
    {
      "cell_type": "markdown",
      "metadata": {
        "id": "5zWLF3eMGeuK"
      },
      "source": [
        "## **Data Pre-processing**"
      ]
    },
    {
      "cell_type": "code",
      "execution_count": null,
      "metadata": {
        "colab": {
          "base_uri": "https://localhost:8080/"
        },
        "id": "2xsgDc56MT18",
        "outputId": "8a974a1e-532d-49de-90e8-cb2af9b77733"
      },
      "outputs": [
        {
          "output_type": "execute_result",
          "data": {
            "text/plain": [
              "hotel                                  0\n",
              "is_canceled                            0\n",
              "lead_time                              0\n",
              "arrival_date_year                      0\n",
              "arrival_date_month                     0\n",
              "arrival_date_week_number               0\n",
              "arrival_date_day_of_month              0\n",
              "stays_in_weekend_nights                0\n",
              "stays_in_week_nights                   0\n",
              "adults                                 0\n",
              "children                               4\n",
              "babies                                 0\n",
              "meal                                   0\n",
              "country                              488\n",
              "market_segment                         0\n",
              "distribution_channel                   0\n",
              "is_repeated_guest                      0\n",
              "previous_cancellations                 0\n",
              "previous_bookings_not_canceled         0\n",
              "reserved_room_type                     0\n",
              "assigned_room_type                     0\n",
              "booking_changes                        0\n",
              "deposit_type                           0\n",
              "agent                              16340\n",
              "company                           112593\n",
              "days_in_waiting_list                   0\n",
              "customer_type                          0\n",
              "adr                                    0\n",
              "required_car_parking_spaces            0\n",
              "total_of_special_requests              0\n",
              "reservation_status                     0\n",
              "reservation_status_date                0\n",
              "dtype: int64"
            ]
          },
          "metadata": {},
          "execution_count": 91
        }
      ],
      "source": [
        "############### Checking for missing values ###############\n",
        "hotel_data_df.isna().sum() # This code shows me all the columns that data is missing from."
      ]
    },
    {
      "cell_type": "code",
      "execution_count": null,
      "metadata": {
        "id": "6wBvdV2oTk70"
      },
      "outputs": [],
      "source": [
        "############### Removing & fixing missing values ###############\n",
        "hotel_data_df.dropna(subset=['children'], inplace=True) # Drop rows with missing values in the children column\n",
        "# The reason why I have dropped the rows instead of changing their value's is because there is only 4 missing coloums so it does not effect the end result.\n",
        "\n",
        "mode_country = hotel_data_df['country'].mode().iloc[0] # Calculate the mode (most frequent country) of the country column.\n",
        "hotel_data_df['country'].fillna(mode_country, inplace=True) # Fill missing values in the country column with the mode country.\n",
        "# The reason why I have used the mode function instead of just dropping the values is because there were 400+ missing entires if we were to delete these entries we would loose alot of data. I used mode because it gets the most common value instead of mean which gets the middle value.\n",
        "\n",
        "hotel_data_df.drop('company', inplace=True, axis=1) # removes the comapny coloumn as it is not needed & because there are too many missing values.\n",
        "hotel_data_df.drop('agent', inplace=True, axis=1) # removes the agent coloumn as it is not needed & becuase there are too many missing values."
      ]
    },
    {
      "cell_type": "code",
      "execution_count": null,
      "metadata": {
        "id": "Y7bqUxbnQkwe"
      },
      "outputs": [],
      "source": [
        "############### Removing rows that are not needed ###############\n",
        "hotel_data_df.drop('distribution_channel', inplace=True, axis=1) # removes the distribution_channel coloumn as it is not needed.\n",
        "hotel_data_df.drop('reservation_status_date', inplace=True, axis=1) # removes the reservation_status_date coloumn as it is not needed.\n",
        "hotel_data_df.drop('required_car_parking_spaces', inplace=True, axis=1) # removes required_car_parking_spaces column as it is not needed.\n",
        "hotel_data_df.drop('reservation_status', inplace=True, axis=1) # removes reservation_status column as it is not needed."
      ]
    },
    {
      "cell_type": "code",
      "execution_count": null,
      "metadata": {
        "id": "_0L9ReTGQyyS"
      },
      "outputs": [],
      "source": [
        "############### Removes inconsistent values ###############\n",
        "# Removing all the rows that have 0 adults, children and babies because these are inconsistent values, this data is not usefull to us.\n",
        "zero_people = hotel_data_df[(hotel_data_df['adults'] == 0) & (hotel_data_df['children'] == 0) & (hotel_data_df['babies'] == 0)] # Gets rows with 0 adults, children & babies.\n",
        "hotel_data_df.drop(zero_people.index) # removes the rows by getting the indexes.\n",
        "\n",
        "# Remvoing all the rows that have no stays because these are inconsistent values, this data is not usefull as its incomplete.\n",
        "zero_stays = hotel_data_df[(hotel_data_df['stays_in_weekend_nights'] ==  0) & (hotel_data_df['stays_in_week_nights'] == 0)] # Gets rows with stays_in_weekend_nights & stays_in_week_nights.\n",
        "hotel_data_df.drop(zero_stays.index) # removes the rows by getting the indexes.\n",
        "\n",
        "# Removing all the rows that have Undefined meal types.\n",
        "zero_meal = hotel_data_df[(hotel_data_df['meal'] == 'Undefined')] # Gets all rows that have meal as Undefined.\n",
        "hotel_data_df.drop(zero_meal.index) # removes the rows by getting the indexes."
      ]
    },
    {
      "cell_type": "code",
      "execution_count": null,
      "metadata": {
        "id": "q0ccTaHKX7tu"
      },
      "outputs": [],
      "source": [
        "############### Checking for columns that should be different datatypes ###############\n",
        "hotel_data_df.dtypes # dtypes function gets columns data type."
      ]
    },
    {
      "cell_type": "code",
      "execution_count": null,
      "metadata": {
        "id": "bhjBrle9GGra"
      },
      "outputs": [],
      "source": [
        "############### Changing column data types ###############\n",
        "hotel_data_df['children'] = hotel_data_df['children'].astype('int64') # Chaging the children data type to an int64 instead of a float64 because the childs age should only be represented as a whole number."
      ]
    },
    {
      "cell_type": "markdown",
      "metadata": {
        "id": "yvOFciXrGnnq"
      },
      "source": [
        "## **Exploratory Data Analysis (EDA)**"
      ]
    },
    {
      "cell_type": "code",
      "source": [
        "############### Boxplot ###############\n",
        "adr = hotel_data_df['adr'] # Storing data within the adr varible.\n",
        "sb.boxplot(adr) # Plotting the adr vaules.\n",
        "plt.title('Boxplot of average daily rate') # # Creating the title for the boxplot.\n",
        "plt.show() # Displaying the boxplot."
      ],
      "metadata": {
        "id": "llfMyjkFFLtp"
      },
      "execution_count": null,
      "outputs": []
    },
    {
      "cell_type": "code",
      "execution_count": null,
      "metadata": {
        "id": "8tmSVJQp_Cgr"
      },
      "outputs": [],
      "source": [
        "############### Boxplot graph ###############\n",
        "weekend_nights = hotel_data_df['stays_in_weekend_nights'] # Creating the varible weekend_nights to represent stays_in_weekend_nights.\n",
        "plt.figure(figsize=(5,5)) # Setting the size of the graph.\n",
        "plt.boxplot(weekend_nights) # Plotting the boxplot.\n",
        "plt.title('Box Plot for Stays in Weekend Nights') # Creating the title for the chart.\n",
        "plt.xlabel('Weekend nights') # Creating the X axis label name.\n",
        "plt.ylabel('Number of Nights') # Creating the Y axis label name.\n",
        "plt.show() # Showing the boxplot\n",
        "\n",
        "# The box plot will show all the outliers. The outliers are outside of the 'wiskers' which are the two horizontal lights outside the box."
      ]
    },
    {
      "cell_type": "code",
      "execution_count": null,
      "metadata": {
        "id": "KH4HUNSz_B61"
      },
      "outputs": [],
      "source": [
        "############### Boxplot graph ###############\n",
        "week_nights = hotel_data_df['stays_in_week_nights'] # creating the varible weekend_nights to represent stays_in_weekend_nights\n",
        "plt.figure(figsize=(5,5)) # Setting the size of the graph.\n",
        "plt.boxplot(week_nights) # Plotting the boxplot.\n",
        "plt.title('Box Plot for Stays in Week Nights') # Creating the title for the chart.\n",
        "plt.xlabel('Week nights') # Creating the X axis label name.\n",
        "plt.ylabel('Number of Nights') # Creating the Y axis label name.\n",
        "plt.show() # Showing the boxplot\n",
        "\n",
        "# The box plot will show all the outliers. The outliers are outside of the 'wiskers' which are the two horizontal lights outside the box."
      ]
    },
    {
      "cell_type": "code",
      "execution_count": null,
      "metadata": {
        "id": "czslRIApkZ_-"
      },
      "outputs": [],
      "source": [
        "############### Bar graph ###############\n",
        "most_common_customer_type = hotel_data_df['customer_type'].value_counts().sort_index() # Creating a varible to count the occurrences of each customer type and sort the index.\n",
        "plt.figure(figsize=(5,5)) # Setting the size of the graph.\n",
        "most_common_customer_type.plot(kind='bar') # Plotting the count for each customer type category.\n",
        "plt.title('Most Common Customer Type') # Creating the title for the graph.\n",
        "plt.xlabel('Customer Type') # Creating the X axis label name.\n",
        "plt.ylabel('Amount of guests') # Creating the Y axis label name.\n",
        "plt.show() # Display the graph."
      ]
    },
    {
      "cell_type": "code",
      "execution_count": null,
      "metadata": {
        "id": "Zi2kq1VprGoe"
      },
      "outputs": [],
      "source": [
        "############### Bar graph ###############\n",
        "most_common_room_type = hotel_data_df['assigned_room_type'].value_counts().sort_index() # Creating a varible to count the occurrences of each assigned room type and sort the index.\n",
        "plt.figure(figsize=(5,5)) # Setting the size of the graph.\n",
        "most_common_room_type.plot(kind='bar') # Plotting the count for each room type category.\n",
        "plt.title('Most Common Room Type') # Creating the title for the graph.\n",
        "plt.xlabel('Room Type') # Creating the X axis label name.\n",
        "plt.ylabel('Number of Guests') # Creating the Y axis label name.\n",
        "plt.show() # Display the graph."
      ]
    },
    {
      "cell_type": "code",
      "execution_count": null,
      "metadata": {
        "id": "QIzz0m5oCw2Q"
      },
      "outputs": [],
      "source": [
        "############### Bar graph ###############\n",
        "Total_Stay_bar_graph = (hotel_data_df['stays_in_weekend_nights'] + hotel_data_df['stays_in_week_nights']).value_counts().sort_index() # Creating a varible to calculate the total stay combining the weekends and weekdays, count the occurrences, and sort the index.\n",
        "plt.figure(figsize=(10,5)) # Setting the size of the graph.\n",
        "Total_Stay_bar_graph.plot(kind='bar') # Plotting the count for total nights stayed.\n",
        "plt.title('Guest Stay Duration Distribution') # Creating the title for the graph.\n",
        "plt.xlabel('Total Stay Duration (Nights)') # Creating the X axis label name.\n",
        "plt.ylabel('Number of Guests') # Creating the Y axis label name.\n",
        "plt.show() # Display the graph."
      ]
    },
    {
      "cell_type": "code",
      "execution_count": null,
      "metadata": {
        "id": "3c6rnrbdmbiw"
      },
      "outputs": [],
      "source": [
        "############### Line graph ###############\n",
        "monthly_guests = hotel_data_df.groupby('arrival_date_month')[['adults', 'children', 'babies']].sum().sum(axis=1) # Group the counts of adults, children, and babies by arrival date month to calculate the total number of guests each month. Using the axis=1 parameter to merge each column into a single line.\n",
        "month_order = ['January', 'February', 'March', 'April', 'May', 'June', 'July', 'August', 'September', 'October', 'November', 'December'] # An array of months in order.\n",
        "monthly_guests_line_graph = monthly_guests.reindex(month_order) # reindexing the monthly guests based on the month order array.\n",
        "plt.figure(figsize=(15, 4))  # Setting the size of the graph.\n",
        "plt.plot(monthly_guests_line_graph) # Plotting the monthly guests.\n",
        "plt.title('Number of Guests Each Month') # Creating the title for the graph.\n",
        "plt.xlabel('Month') # Creating the X axis label name.\n",
        "plt.ylabel('Number of Guests') # Creating the Y axis label name.\n",
        "plt.show() # Display the graph."
      ]
    },
    {
      "cell_type": "code",
      "execution_count": null,
      "metadata": {
        "id": "beiuoNsQmOBX"
      },
      "outputs": [],
      "source": [
        "############### Pie chart ###############\n",
        "most_common_meal_type = hotel_data_df['meal'].value_counts().sort_index() # Creating a varible to count the occurrences of different meal types and sort them.\n",
        "plt.figure(figsize=(5, 5)) # Setting the size of the chart.\n",
        "most_common_meal_type.plot(kind='pie', autopct='%1.1f%%') # Plotting the meal types on pie chart and shows %.\n",
        "plt.title('Most Frequemnt Meal Type') # Creating the title for the chart.\n",
        "plt.show() # Display the chart."
      ]
    },
    {
      "cell_type": "code",
      "execution_count": null,
      "metadata": {
        "id": "ilr4Dt7GmJ0v"
      },
      "outputs": [],
      "source": [
        "############### Pie chart ###############\n",
        "guest_counts = hotel_data_df[\"hotel\"].value_counts().sort_index() # Creating a varible to count the number of guests in each hotel category.\n",
        "plt.figure(figsize=(5, 5)) # Setting the size of the chart.\n",
        "guest_counts.plot(kind='pie', autopct='%1.1f%%') # Plotting guests count difference between city hotel and resort hotel and shows &.\n",
        "plt.title(\"Guests in each hotel\") # Creating the title for the chart.\n",
        "plt.show() # Display the chart."
      ]
    },
    {
      "cell_type": "code",
      "execution_count": null,
      "metadata": {
        "id": "cXANjg6OxrwP"
      },
      "outputs": [],
      "source": [
        "############### Pie chart ###############\n",
        "returning_guest_counts = hotel_data_df[\"is_repeated_guest\"].value_counts().sort_index() # Creating a varible to count the number of returning guests in the DataFrame and sort the values.\n",
        "plt.figure(figsize=(5, 5)) # Setting the size of the chart.\n",
        "returning_guest_counts.plot(kind='pie', autopct='%1.1f%%') # Plotting the number of returining guests and non returining guests and showing the %.\n",
        "plt.title('Number of Returning Guests') # Creating the title for the chart.\n",
        "plt.xlabel('0=Not reapeated  1=reapted') # Creating the X axis label name.\n",
        "plt.show() # Display the chart."
      ]
    },
    {
      "cell_type": "code",
      "execution_count": null,
      "metadata": {
        "id": "3mO0F5UOmG40"
      },
      "outputs": [],
      "source": [
        "############### Pie chart ###############\n",
        "# Dictionary mapping country codes to continents\n",
        "country_code_to_continent = {'PRT': 'Europe','GBR': 'Europe','USA': 'North America','ESP': 'Europe','IRL': 'Europe',\n",
        "                             'FRA': 'Europe','ROU': 'Europe','NOR': 'Europe','OMN': 'Asia','ARG': 'South America',\n",
        "                             'POL': 'Europe','DEU': 'Europe','BEL': 'Europe','CHE': 'Europe','CN': 'Asia',\n",
        "                             'GRC': 'Europe','ITA': 'Europe','NLD': 'Europe','DNK': 'Europe','RUS': 'Europe',\n",
        "                             'SWE': 'Europe','AUS': 'Oceania','EST': 'Europe','CZE': 'Europe','BRA': 'South America',\n",
        "                             'FIN': 'Europe','MOZ': 'Africa','BWA': 'Africa','LUX': 'Europe','SVN': 'Europe',\n",
        "                             'ALB': 'Europe','IND': 'Asia','CHN': 'Asia','MEX': 'North America','MAR': 'Africa',\n",
        "                             'UKR': 'Europe','SMR': 'Europe','LVA': 'Europe','PRI': 'North America','SRB': 'Europe',\n",
        "                             'CHL': 'South America','AUT': 'Europe','BLR': 'Europe','LTU': 'Europe','TUR': 'Asia',\n",
        "                             'ZAF': 'Africa','AGO': 'Africa','ISR': 'Asia','CYM': 'North America','ZMB': 'Africa',\n",
        "                             'CPV': 'Africa','ZWE': 'Africa','DZA': 'Africa','KOR': 'Asia','CRI': 'North America',\n",
        "                             'HUN': 'Europe','ARE': 'Asia','TUN': 'Africa','JAM': 'North America','HRV': 'Europe',\n",
        "                             'HKG': 'Asia','IRN': 'Asia','GEO': 'Asia','AND': 'Europe','GIB': 'Europe',\n",
        "                             'URY': 'South America','JEY': 'Europe','CAF': 'Africa','CYP': 'Europe','COL': 'South America',\n",
        "                             'GGY': 'Europe','KWT': 'Asia','NGA': 'Africa','MDV': 'Asia','VEN': 'South America',\n",
        "                             'SVK': 'Europe','FJI': 'Oceania','KAZ': 'Asia','PAK': 'Asia','IDN': 'Asia',\n",
        "                             'LBN': 'Asia','PHL': 'Asia','SEN': 'Africa','SYC': 'Africa','AZE': 'Asia',\n",
        "                             'BHR': 'Asia','NZL': 'Oceania','THA': 'Asia','DOM': 'North America','MKD': 'Europe',\n",
        "                             'MYS': 'Asia','ARM': 'Asia','JPN': 'Asia','LKA': 'Asia','CUB': 'North America',\n",
        "                             'CMR': 'Africa','BIH': 'Europe','MUS': 'Africa','COM': 'Africa','SUR': 'South America',\n",
        "                             'UGA': 'Africa','BGR': 'Europe','CIV': 'Africa','JOR': 'Asia','SYR': 'Asia',\n",
        "                             'SGP': 'Asia','BDI': 'Africa','SAU': 'Asia','VNM': 'Asia','PLW': 'Oceania',\n",
        "                             'QAT': 'Asia','EGY': 'Africa','PER': 'South America','MLT': 'Europe','MWI': 'Africa',\n",
        "                             'ECU': 'South America','MDG': 'Africa','ISL': 'Europe','UZB': 'Asia','NPL': 'Asia',\n",
        "                             'BHS': 'North America','MAC': 'Asia','TGO': 'Africa','TWN': 'Asia','DJI': 'Africa',\n",
        "                             'STP': 'Africa','KNA': 'North America','ETH': 'Africa','IRQ': 'Asia','HND': 'North America',\n",
        "                             'RWA': 'Africa','KHM': 'Asia'\n",
        "                             }\n",
        "continent_guests = hotel_data_df['country'].map(country_code_to_continent).value_counts().sort_index() # Creating a varible to map the country codes to continents and counting the number of guests per continent.\n",
        "plt.figure(figsize=(10,10)) # Setting the size of the chart.\n",
        "continent_guests.plot(kind='pie', autopct='%1.1f%%') # Plotting each continent were guests are from with %.\n",
        "plt.title(\"Guests' Geographical Origins by Continent\") # Creating the title for the chart.\n",
        "plt.show() # Display the chart.\n"
      ]
    },
    {
      "cell_type": "code",
      "execution_count": null,
      "metadata": {
        "id": "xNC9sNSGspGF"
      },
      "outputs": [],
      "source": [
        "############### Heatmap ###############\n",
        "correlation = hotel_data_df[['assigned_room_type', 'is_canceled']].corr() # Creating a varible to calculate the correlation between 'assigned_room_type' and 'is_canceled'.\n",
        "sb.heatmap(correlation, annot=True) # Plotting the correlations between assigned_room_type and is_canncled.\n",
        "plt.title('Correlation Between Room Types and Cancellations') # Creating the title for the heatmap.\n",
        "plt.show() # Display the heatmap."
      ]
    },
    {
      "cell_type": "markdown",
      "metadata": {
        "id": "dBpZrRF5NVSc"
      },
      "source": [
        "## **Feature Engineering**"
      ]
    },
    {
      "cell_type": "code",
      "execution_count": null,
      "metadata": {
        "id": "WGHhelJsK8q9"
      },
      "outputs": [],
      "source": [
        "############### Dropping rows after they have been used in the EDA ###############\n",
        "hotel_data_df.drop('arrival_date_year', inplace=True, axis=1) # removes the arrival_date_year column as it is not needed anymore.\n",
        "hotel_data_df.drop('arrival_date_week_number', inplace=True, axis=1) # removes the arrival_date_week_number column as it is not needed anymore.\n",
        "hotel_data_df.drop('arrival_date_day_of_month', inplace=True, axis=1) # removes the arrival_date_day_of_month column as it is not needed anymore\n",
        "hotel_data_df.drop('arrival_date_month', inplace=True, axis=1) # removes the arrival_date_month column as it is not needed anymore.\n",
        "hotel_data_df.drop('customer_type', inplace=True, axis=1) # Removes the customer_type column as it is not needed anymore.\n",
        "hotel_data_df.drop('hotel', inplace=True, axis=1) # Removes the hotel column as it is not needed anymore."
      ]
    },
    {
      "cell_type": "code",
      "execution_count": null,
      "metadata": {
        "id": "fAxnmMTgOuAY"
      },
      "outputs": [],
      "source": [
        "############### Covariance ###############\n",
        "hotel_data_df.cov() # Calculating the covarience between columns."
      ]
    },
    {
      "cell_type": "code",
      "execution_count": null,
      "metadata": {
        "id": "xFwr1qpdOwwo"
      },
      "outputs": [],
      "source": [
        "############### Correlation ###############\n",
        "hotel_data_df.corr() # Calculating the correlation between columns."
      ]
    },
    {
      "cell_type": "code",
      "execution_count": null,
      "metadata": {
        "id": "ViVrdXtiO0I7"
      },
      "outputs": [],
      "source": [
        "############### Variance ###############\n",
        "hotel_data_df.var(numeric_only=None) # Calculating the variance of all the numeric columns."
      ]
    },
    {
      "cell_type": "code",
      "execution_count": null,
      "metadata": {
        "id": "Xqa9sUxjOlp2"
      },
      "outputs": [],
      "source": [
        "############### Heatmap ###############\n",
        "Covariance = hotel_data_df.cov() # Creating a varible to calculate the covariance of the entire DataFrame\n",
        "sb.heatmap(Covariance) # Plotting the Covariance between the fulldata set.\n",
        "plt.show() # Display the heatmap."
      ]
    },
    {
      "cell_type": "code",
      "execution_count": null,
      "metadata": {
        "id": "EE69Po_EObs9"
      },
      "outputs": [],
      "source": [
        "############### Heatmap ###############\n",
        "correlation = hotel_data_df.corr() # Creating a varible to calculate the correlation of the entire DataFrame\n",
        "sb.heatmap(correlation) # Plotting the correlation between the fulldata set.\n",
        "plt.show() # Display the heatmap."
      ]
    },
    {
      "cell_type": "code",
      "source": [
        "adr_outliers = hotel_data_df[hotel_data_df['adr'] > 2000].index\n",
        "hotel_data_df.drop(adr_outliers, inplace=True)"
      ],
      "metadata": {
        "id": "J_VtO_36DPlX"
      },
      "execution_count": null,
      "outputs": []
    },
    {
      "cell_type": "code",
      "execution_count": null,
      "metadata": {
        "id": "wwyn8H5t8utJ"
      },
      "outputs": [],
      "source": [
        "############### Binning ###############\n",
        "bins = [0, 7, 30, 90, hotel_data_df['lead_time'].max()] # Bins are set as 0, 7, 30, 90 and the max lead time in the column.\n",
        "labels = ['short lead time', 'medium lead time', 'long lead time', 'very long lead time'] # Setting the labels for each bin.\n",
        "hotel_data_df['lead_time_bins'] = pd.cut(hotel_data_df['lead_time'], bins=bins, labels=labels, include_lowest=True) # Applying bin categories to 'lead_time' column and creating a new column 'lead_time_bins'.\n",
        "\n",
        "total_individuals = hotel_data_df['adults'] + hotel_data_df['children'] + hotel_data_df['babies'] # Varible adding all the adults, children and babies staying per guest.\n",
        "bins = [1, 3, 6, 8, total_individuals.max()] #  Bins are set as 1, 3, 6, 8 and the max total individuals in the column.\n",
        "labels = ['small group', 'medium group', 'large group', 'very large group'] # Setting the labels for each bin.\n",
        "hotel_data_df['group_size_bins'] = pd.cut(total_individuals, bins=bins, labels=labels, include_lowest=True) # Applying bin categories to 'total_individuals' column and creating 'group_size_bins' column.\n",
        "\n",
        "total_nights = hotel_data_df['stays_in_weekend_nights'] + hotel_data_df['stays_in_week_nights'] # Varible adding the weekend nights and the week nights to the total nights stayed.\n",
        "bins = [2, 5, 12, 15, total_nights.max()] # Bins are set as 2, 5, 12, 15 and the max total nights stayed in the column.\n",
        "labels = ['short stay', 'medium stay', 'long stay', 'very long stay'] # Setting the labels for each bin.\n",
        "hotel_data_df['total_nights_bins'] = pd.cut(total_nights, bins=bins, labels=labels, include_lowest=True) # Applying bin categories to 'total_nights' column and creating 'total_nights_bins' column.\n",
        "\n",
        "bins = [0, 1, 2, hotel_data_df['previous_cancellations'].max()] # Bins are set as 0, 1, 2 and the max amount of previous cancellations a guest has done in the column.\n",
        "labels = ['low frequency', 'medium frequency', 'high frequency'] # Setting the labels for each bin.\n",
        "hotel_data_df['previous_cancellations_bins'] = pd.cut(hotel_data_df['previous_cancellations'], bins=bins, labels=labels, include_lowest=True) # Applying bin categories to 'previous_cancellations' column and creating a new column 'previous_cancellations_bins'."
      ]
    },
    {
      "cell_type": "code",
      "execution_count": null,
      "metadata": {
        "id": "GPyy1V5CEZb7"
      },
      "outputs": [],
      "source": [
        "############### Encoding all Nominal Data ###############\n",
        "hotel_data_df['meal'] = hotel_data_df['meal'].replace({'BB': 0, 'FB': 1, 'HB': 2, 'SC': 3, 'Undefined': 4}) # Chaning all the strings to numerical values (int64) so the Classifier can understand the data.\n",
        "hotel_data_df['country'] = hotel_data_df['country'].astype('category') # changing country type to category so I can use cat codes to encode\n",
        "hotel_data_df['country'] = hotel_data_df['country'].cat.codes # using cat codes here because there are too many different tpyes of countires\n",
        "hotel_data_df['market_segment'] = hotel_data_df['market_segment'].replace({'Direct' : 0, 'Corporate' : 1, 'Online TA' : 2, 'Offline TA/TO' : 3, 'Complementary' : 4, 'Groups' : 5, 'Aviation' : 6}) # Chaning all the strings to numerical values (int64) so the Classifier can understand the data.\n",
        "hotel_data_df['deposit_type'] = hotel_data_df['deposit_type'].replace({'No Deposit' : 0, 'Refundable' : 1, 'Non Refund' : 2}) # Chaning all the strings to numerical values (int64) so the Classifier can understand the data."
      ]
    },
    {
      "cell_type": "code",
      "execution_count": null,
      "metadata": {
        "id": "mWXltQgXRk-h"
      },
      "outputs": [],
      "source": [
        "############### Encoding all Ordianal Data ###############\n",
        "# Presuming the lower the letter the \"better\" the room reserved_room_type is also ordinal\n",
        "encode_onehot_reserved_room_type = pd.get_dummies(hotel_data_df['reserved_room_type'], prefix='reserved_room_type') # Encoding the reserved_room_type column using one-hot encoding creating dummy columns for each value.\n",
        "hotel_data_df = hotel_data_df.drop('reserved_room_type', axis=1) # Removes the original reserved_room_type column as it is not needed anymore.\n",
        "hotel_data_df = hotel_data_df.join(encode_onehot_reserved_room_type) # Joining the encode_onehot_reserved_room_type df to the hotel_data df.\n",
        "\n",
        "# Presuming the lower the letter the \"better\" the room assigned_room_type is also ordinal\n",
        "encode_onehot_assigned_room_type = pd.get_dummies(hotel_data_df['assigned_room_type'], prefix='assigned_room_type') # Encoding the assigned_room_type column using one-hot encoding creating dummy columns for each value.\n",
        "hotel_data_df = hotel_data_df.drop('assigned_room_type', axis=1) # Removes the original assigned_room_type column as it is not needed anymore.\n",
        "hotel_data_df = hotel_data_df.join(encode_onehot_assigned_room_type) # Joining the encode_onehot_assigned_room_type df to the hotel_data df.\n",
        "\n",
        "# There is a hierarchy involved when binning columns from short lead time to very long lead time.\n",
        "encode_onehot_lead_time_bins = pd.get_dummies(hotel_data_df['lead_time_bins'], prefix='lead_time_bins') #  Encoding the lead_time_bins column using one-hot encoding creating dummy columns for each value.\n",
        "hotel_data_df = hotel_data_df.drop('lead_time_bins', axis=1) # Removes the original lead_time_bins column as it is not needed anymore/\n",
        "hotel_data_df = hotel_data_df.join(encode_onehot_lead_time_bins) # Joining the encoded_one_hot_bins df to the hotel_data df.\n",
        "\n",
        "# There is a hierarchy invloved when binning columns from a small group size to a large group size.\n",
        "encode_onehot_group_size_bins = pd.get_dummies(hotel_data_df['group_size_bins'], prefix='group_size_bins') # Encoding the group_size_bins column using one-hot encoding creating dummy columns for each value.\n",
        "hotel_data_df = hotel_data_df.drop('group_size_bins', axis=1) # Removes the original group_size_bins column as it is not needed anymore.\n",
        "hotel_data_df = hotel_data_df.join(encode_onehot_group_size_bins) # Joining the encoded_onehot_group_size_bins df to the hotel_data df.\n",
        "\n",
        "# There is a hirarchy involved when binning columns from a short stay to  very long stay.\n",
        "encode_onehot_total_nights_bins = pd.get_dummies(hotel_data_df['total_nights_bins'], prefix='total_nights_bins') # Encoding the total_nights_bins columnn using one-hot encoding creating dummy columns for each value.\n",
        "hotel_data_df = hotel_data_df.drop('total_nights_bins', axis=1) # Removes the original total_nights_bins column as it is not needed anymore.\n",
        "hotel_data_df = hotel_data_df.join(encode_onehot_total_nights_bins) # Joining the encoded_one_hot_total_nights_bins df to the hotel_data df.\n",
        "\n",
        "# There is a hierarchy involved when binning columns from a low frequency of a guest canceling to a very high frequency.\n",
        "encode_onehot_previous_cancellations_bins = pd.get_dummies(hotel_data_df['previous_cancellations_bins'], prefix='previous_cancellations_bins') # Encoding the previous_cancellations_bins columnn using one-hot encoding creating dummy clumns for each value.\n",
        "hotel_data_df = hotel_data_df.drop('previous_cancellations_bins', axis=1) # Removes the original previous_cancellations_bins column as it is not needed anymore.\n",
        "hotel_data_df = hotel_data_df.join(encode_onehot_previous_cancellations_bins) # Joining the encoded_onehot_previous_cancellations_bins df to the hotel_data df."
      ]
    },
    {
      "cell_type": "code",
      "execution_count": null,
      "metadata": {
        "id": "UjisGspJe4yj"
      },
      "outputs": [],
      "source": [
        "############### Standard scaling ###############\n",
        "hotel_data_df_standard_scaled = hotel_data_df.copy() # Taking a copy of the hotel_data_df and storing it as hotel_data_df_standard_scaled.\n",
        "std_scaler = StandardScaler() # Setting the standard scaler.\n",
        "hotel_data_df_standard_scaled = pd.DataFrame(std_scaler.fit_transform(hotel_data_df_standard_scaled.values),columns=hotel_data_df_standard_scaled.columns, index=hotel_data_df_standard_scaled.index) # makeing the numerical columns standardized with a mean of 1 and a standard deviation of 1."
      ]
    },
    {
      "cell_type": "markdown",
      "metadata": {
        "id": "mVhYoq7QNaOO"
      },
      "source": [
        "## **Classifier Training**"
      ]
    },
    {
      "cell_type": "code",
      "execution_count": null,
      "metadata": {
        "id": "nVGM3mRfe2Y7"
      },
      "outputs": [],
      "source": [
        "############### Decision tree classifier ###############\n",
        "x = hotel_data_df_standard_scaled.drop(columns=\"is_canceled\") # Creating a dataframe 'x' with the column is_canceled removed. So I can train the model.\n",
        "y = hotel_data_df_standard_scaled['is_canceled'] # Creating a dataframe 'y' with only the column is_canceled.\n",
        "\n",
        "normalized_X = preprocessing.normalize(x) # Normalizing the data in the varible 'x'.\n",
        "standardized_X = preprocessing.scale(x) # standardizing the data in the varible 'y'.\n",
        "\n",
        "y = pd.get_dummies(y) # Converting 'y' into dummy varibles using one-hot encoding.\n",
        "\n",
        "\n",
        "\n",
        "X_train, X_test, y_train, y_test = train_test_split(x, y, test_size=0.3, stratify=y, random_state=1) # Split the dataset into training and testing sets.\n",
        "dt = DecisionTreeClassifier() # Creating an instance of the decision tree classifier.\n",
        "\n",
        "Result_DT = dt.fit(X_train,y_train) # Loading the training data into the classifier.\n",
        "y_pred = dt.predict(X_test) # Predicting is_canceled using the decision tree classifier.\n",
        "\n",
        "data_accuracy = metrics.accuracy_score(y_test, y_pred) # Determining the accuracy scores by comparing the predicted values against the actual values within the dataset.\n",
        "\n",
        "dt = DecisionTreeClassifier(criterion = 'gini', random_state=1) # Creating a Decision Tree Classifier with Gini criterion and a set random state.\n",
        "dt= dt.fit(X_train, y_train) # Loading the training data into the classifier.\n",
        "\n",
        "y_pred = dt.predict(X_test) # Predicting is_canceled using the decision tree classifier.\n",
        "\n",
        "data_accuracy = metrics.accuracy_score(y_test, y_pred) # Determining the accuracy scores by comparing the predicted values against the actual values within the dataset.\n",
        "\n",
        "\n",
        "\n",
        "X_train, X_test, y_train, y_test = train_test_split(normalized_X, y,test_size=0.3, stratify=y, random_state=1) # Split the dataset into training and testing sets.\n",
        "\n",
        "dt = DecisionTreeClassifier(criterion = 'gini', random_state=1) # Creating a Decision Tree Classifier with Gini criterion and a set random state.\n",
        "dt= dt.fit(X_train, y_train) # Loading the training data into the classifier.\n",
        "\n",
        "y_pred = dt.predict(X_test) # Predicting is_canceled using the decision tree classifier.\n",
        "\n",
        "normalized_data_accuracy = metrics.accuracy_score(y_test, y_pred) # Determining the accuracy scores by comparing the predicted values against the actual values within the dataset.\n",
        "\n",
        "\n",
        "\n",
        "X_train, X_test, y_train, y_test = train_test_split(standardized_X, y,test_size=0.3,stratify=y, random_state=1) # Split the dataset into training and testing sets.\n",
        "\n",
        "dt = DecisionTreeClassifier(criterion = 'gini', random_state=1) # Creating a Decision Tree Classifier with Gini criterion and a set random state.\n",
        "dt= dt.fit(X_train, y_train) # Loading the training data into the classifier.\n",
        "\n",
        "y_pred = dt.predict(X_test) # Predicting is_canceled using the decision tree classifier.\n",
        "\n",
        "standardized_data_accuracy = metrics.accuracy_score(y_test, y_pred) # Determining the accuracy scores by comparing the predicted values against the actual values within the dataset."
      ]
    },
    {
      "cell_type": "markdown",
      "metadata": {
        "id": "nhe0kYLlNe8I"
      },
      "source": [
        "## **Feature Importance**"
      ]
    },
    {
      "cell_type": "code",
      "execution_count": null,
      "metadata": {
        "id": "2TJNgSd_oHDK",
        "colab": {
          "base_uri": "https://localhost:8080/"
        },
        "outputId": "39c580db-9461-4fa3-e3f3-3e99e9f19483"
      },
      "outputs": [
        {
          "output_type": "stream",
          "name": "stdout",
          "text": [
            "Data Accuracy: 0.8223978110341746\n",
            "Normalised data Accuracy: 0.8122068349341076\n",
            "Standardised Accuracy: 0.8223978110341746\n"
          ]
        }
      ],
      "source": [
        "############### Data accuracy ###############\n",
        "print(\"Data Accuracy:\",data_accuracy) # Prints the data accuracy.\n",
        "print(\"Normalised data Accuracy:\",normalized_data_accuracy) # Prints normalised data accuracy.\n",
        "print(\"Standardised Accuracy:\",standardized_data_accuracy) # Prints standardized data accuracy."
      ]
    },
    {
      "cell_type": "markdown",
      "metadata": {
        "id": "UEgSvuHA1DQh"
      },
      "source": [
        "**Classification Report**\n",
        "\n",
        "The classification report tell us the capability of the model and how good it is at predicting hotel cancelations.\n",
        "\n",
        "**Precision**\n",
        "\n",
        "The precision score is the accuracy of correctly predicting positive outcomes out of all the positive instances expected. The model stands at 86% accuracy for bookings not canceled (class 0) and 76% for bookings canceled (class 1).\n",
        "\n",
        "**Recall**\n",
        "\n",
        "The recall score is the ratio of correctly predicited positives to all the actual positives in the data. The model stands at 85% accuracy for bookings not cancled (class 0) and 76% for bookings canceled (class 1).\n",
        "\n",
        "**f1-score**\n",
        "\n",
        "The f1 score is a combination of the precision score and the recall score giving you the overall score. The models stands at 86& accuracy for bookings not cancled (class 0) and 76% for bookings canceled (class 1).\n",
        "\n",
        "**Support**\n",
        "\n",
        "The support column shows how many instances belongs to each class within the dataset."
      ]
    },
    {
      "cell_type": "code",
      "execution_count": null,
      "metadata": {
        "colab": {
          "base_uri": "https://localhost:8080/"
        },
        "id": "wH7zb8w20ibT",
        "outputId": "1353fc17-2545-4dcd-c18b-3e1a8cb18606"
      },
      "outputs": [
        {
          "output_type": "stream",
          "name": "stdout",
          "text": [
            "              precision    recall  f1-score   support\n",
            "\n",
            "           0       0.86      0.85      0.86     22550\n",
            "           1       0.76      0.77      0.76     13266\n",
            "\n",
            "   micro avg       0.82      0.82      0.82     35816\n",
            "   macro avg       0.81      0.81      0.81     35816\n",
            "weighted avg       0.83      0.82      0.82     35816\n",
            " samples avg       0.82      0.82      0.82     35816\n",
            "\n"
          ]
        },
        {
          "output_type": "stream",
          "name": "stderr",
          "text": [
            "/usr/local/lib/python3.10/dist-packages/sklearn/metrics/_classification.py:1344: UndefinedMetricWarning: Precision and F-score are ill-defined and being set to 0.0 in samples with no predicted labels. Use `zero_division` parameter to control this behavior.\n",
            "  _warn_prf(average, modifier, msg_start, len(result))\n"
          ]
        }
      ],
      "source": [
        "############### Classifier Training Report ###############\n",
        "print(metrics.classification_report(y_test, y_pred,digits=2,output_dict=False)) # Prints the classification report with precision, recall, and F1-score for each class."
      ]
    },
    {
      "cell_type": "markdown",
      "metadata": {
        "id": "hYrVXG5q5iBr"
      },
      "source": [
        "**Visulization of important features & discussion**\n",
        "\n",
        "The features that are printed below are the top 15 most important features when training the decision tree model. Feature importances is important as it shows us the the most needed features to train a good model.\n",
        "\n",
        "**Deposit Type (24%)**\n",
        "  *   This feature stands out as the primary predictor for booking cancellations. It reveals that guests placing a non-refundable deposit are significantly less likely to cancel. This highlights a strong link, indicating that different types of deposit types are a substantial indicator of cancelation. Which makes sense as guests dont want to loose money.\n",
        "\n",
        "**Lead Time (23%)**\n",
        "  *   Lead time, reflecting the duration between booking and arrival, holds significant predictive power for cancellations. Guests who book far in advance are more organized and scheduled, leading to a decreased likelihood of cancellations. In contrast, shorter lead times often relate to unexpected circumstances, prompting higher cancellation rates.\n",
        "\n",
        "**Country (11%)**\n",
        "  *   Country stands as the third most important feature, given the nature of international travel. Guests traveling from abroad generally need to book flights, incurring higher costs and necessitating more extensive planning and financial management. On the other hand, guests from domestic locations may have relatively less stringent planning.\n",
        "\n",
        "Overall, the top three feature importance scores demonstrate accuracy in predicting cancellations. A non-refundable deposit indicates commitment, a longer lead time signifies thorough planning, and the guest's country of origin implicates potential complexities due to flight arrangements and the need for comprehensive planning. These features could guide future actions in managing bookings by understanding customer behaviour we can minimize cancellations. If we drop any of these columns, it would substantially diminish the decision tree's accuracy and reliability in predicting cancellations correctly.\n",
        "\n",
        "\n",
        "\n",
        "\n",
        "\n",
        "\n",
        "\n",
        "\n",
        "\n",
        "\n",
        "\n"
      ]
    },
    {
      "cell_type": "code",
      "execution_count": null,
      "metadata": {
        "colab": {
          "base_uri": "https://localhost:8080/"
        },
        "id": "VlIpoP2c1AFt",
        "outputId": "db80c6b2-7607-460f-d749-c224c92fb7a5"
      },
      "outputs": [
        {
          "output_type": "stream",
          "name": "stdout",
          "text": [
            "       Top 15 most important features\n",
            "                        variable  importance\n",
            "13                  deposit_type    0.234627\n",
            "0                      lead_time    0.164838\n",
            "15                           adr    0.145719\n",
            "7                        country    0.096096\n",
            "8                 market_segment    0.082742\n",
            "2           stays_in_week_nights    0.047436\n",
            "16     total_of_special_requests    0.044165\n",
            "1        stays_in_weekend_nights    0.026252\n",
            "10        previous_cancellations    0.023905\n",
            "12               booking_changes    0.019396\n",
            "3                         adults    0.015433\n",
            "6                           meal    0.015029\n",
            "27          assigned_room_type_A    0.010320\n",
            "17          reserved_room_type_A    0.008196\n",
            "47  total_nights_bins_short stay    0.008045\n"
          ]
        }
      ],
      "source": [
        "############### Table ###############\n",
        "print(\"       Top 15 most important features\") # prints title for the table below.\n",
        "top_15_features = pd.concat((pd.DataFrame(hotel_data_df_standard_scaled.iloc[:, 1:].columns, columns = ['variable']), pd.DataFrame(dt.feature_importances_, columns = ['importance'])), axis = 1).sort_values(by='importance', ascending =False)[:15] # Concatenating and sorting feature importances in descending order to display the top 15 important features.\n",
        "print(top_15_features) # Printing the top 15 features."
      ]
    },
    {
      "cell_type": "markdown",
      "metadata": {
        "id": "Kwihs-_wIOLg"
      },
      "source": [
        "The pie chart shows the top 15 most important features that the model used to predict cancellations and the usefullness of each by show there % points."
      ]
    },
    {
      "cell_type": "code",
      "execution_count": null,
      "metadata": {
        "colab": {
          "base_uri": "https://localhost:8080/"
        },
        "id": "YivwiifI4Ncn",
        "outputId": "01ba6b5a-0622-40cc-a792-e3366c8ed905"
      },
      "outputs": [
        {
          "output_type": "display_data",
          "data": {
            "text/plain": [
              "<Figure size 800x800 with 1 Axes>"
            ],
            "image/png": "[encoded data removed]"
          },
          "metadata": {}
        }
      ],
      "source": [
        "############### Pie chart ###############\n",
        "plt.figure(figsize=(8,8)) # Setting the size of the chart.\n",
        "plt.pie(top_15_features['importance'], labels=top_15_features['variable'], autopct='%1.1f%%') # Plotting the feature importance varibles on pie chart and shows %.\n",
        "plt.title('Top 15 Important Features') # Creating the title for the chart.\n",
        "plt.show() # Display the chart."
      ]
    },
    {
      "cell_type": "code",
      "execution_count": null,
      "metadata": {
        "id": "x8rQgNoiJEI5"
      },
      "outputs": [],
      "source": [
        "############### Heatmap ###############\n",
        "selected_features = hotel_data_df_standard_scaled[top_15_features['variable']] # Gets the top 15 features from the dataset.\n",
        "plt.figure(figsize=(10, 8)) # Setting the size of the heatmap.\n",
        "sb.heatmap(selected_features.corr(), annot=True) # Plotting the data selected_features data onto the heatmap with annotations.\n",
        "plt.title('Correlation Heatmap between the top 15 features') # Creating the title for the heatmap.\n",
        "plt.show() # Display the heatmap."
      ]
    }
  ],
  "metadata": {
    "colab": {
      "collapsed_sections": [
        "5zWLF3eMGeuK",
        "yvOFciXrGnnq",
        "mVhYoq7QNaOO",
        "nhe0kYLlNe8I"
      ],
      "provenance": []
    },
    "kernelspec": {
      "display_name": "Python 3",
      "name": "python3"
    },
    "language_info": {
      "name": "python"
    }
  },
  "nbformat": 4,
  "nbformat_minor": 0
}